{
  "nbformat": 4,
  "nbformat_minor": 0,
  "metadata": {
    "colab": {
      "provenance": [],
      "authorship_tag": "ABX9TyMoaGMp12KcnxkalZy6BO5c",
      "include_colab_link": true
    },
    "kernelspec": {
      "name": "python3",
      "display_name": "Python 3"
    },
    "language_info": {
      "name": "python"
    }
  },
  "cells": [
    {
      "cell_type": "markdown",
      "metadata": {
        "id": "view-in-github",
        "colab_type": "text"
      },
      "source": [
        "<a href=\"https://colab.research.google.com/github/santosh9382/python_SQLCODE/blob/main/git_Untitled5.ipynb\" target=\"_parent\"><img src=\"https://colab.research.google.com/assets/colab-badge.svg\" alt=\"Open In Colab\"/></a>"
      ]
    },
    {
      "cell_type": "code",
      "execution_count": null,
      "metadata": {
        "colab": {
          "base_uri": "https://localhost:8080/"
        },
        "id": "mBGSud11nLQx",
        "outputId": "a59db1bf-cfea-482e-ac96-cd7805b6c7d1"
      },
      "outputs": [
        {
          "output_type": "stream",
          "name": "stdout",
          "text": [
            "Bark\n"
          ]
        }
      ],
      "source": [
        "from abc import ABC, abstractmethod\n",
        "\n",
        "class Animal(ABC):\n",
        "\n",
        "    @abstractmethod\n",
        "    def sound(self):\n",
        "        pass\n",
        "\n",
        "class Dog(Animal):\n",
        "    def sound(self):\n",
        "        return \"Bark\"\n",
        "\n",
        "dog = Dog()\n",
        "print(dog.sound())"
      ]
    },
    {
      "cell_type": "code",
      "source": [
        "from abc import ABC, abstractmethod\n",
        "\n",
        "class Animal(ABC):\n",
        "    @property\n",
        "    def species(self):\n",
        "        pass  # Abstract property, must be implemented by subclasses\n",
        "\n",
        "class Dog(Animal):\n",
        "    @property\n",
        "    def species(self):\n",
        "        return \"Canine\"\n",
        "\n",
        "# Instantiate the concrete subclass\n",
        "dog = Dog()\n",
        "print(dog.species)"
      ],
      "metadata": {
        "colab": {
          "base_uri": "https://localhost:8080/"
        },
        "id": "oJSyk-Qbp1Fu",
        "outputId": "4852b8f0-11f1-45b0-8dc3-e8a692c22840"
      },
      "execution_count": 2,
      "outputs": [
        {
          "output_type": "stream",
          "name": "stdout",
          "text": [
            "Canine\n"
          ]
        }
      ]
    },
    {
      "cell_type": "code",
      "source": [
        "class A:\n",
        "  y=89\n",
        "class B(A):\n",
        "  pass\n",
        "print(issubclass(B,A))\n",
        "print(type(B).__name__)\n",
        "c=type('san',(A,),{'x':10})\n",
        "print(c.y,c.x)"
      ],
      "metadata": {
        "colab": {
          "base_uri": "https://localhost:8080/"
        },
        "id": "NI3FdXVGqpoK",
        "outputId": "df9ad622-c61f-45fc-e6a4-b2789b5d20d2"
      },
      "execution_count": 17,
      "outputs": [
        {
          "output_type": "stream",
          "name": "stdout",
          "text": [
            "True\n",
            "type\n",
            "89 10\n"
          ]
        }
      ]
    }
  ]
}